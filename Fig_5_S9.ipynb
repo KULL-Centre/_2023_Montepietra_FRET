{
 "cells": [
  {
   "cell_type": "code",
   "execution_count": 1,
   "id": "1b4df2eb",
   "metadata": {},
   "outputs": [],
   "source": [
    "import numpy as np\n",
    "%matplotlib inline\n",
    "import matplotlib.pyplot as plt\n",
    "import matplotlib as mpl\n",
    "import pandas as pd\n",
    "import seaborn as sns\n",
    "import itertools\n",
    "import warnings\n",
    "\n",
    "warnings.filterwarnings('ignore')"
   ]
  },
  {
   "cell_type": "markdown",
   "id": "9db86e76",
   "metadata": {},
   "source": [
    "## Fig 5"
   ]
  },
  {
   "cell_type": "code",
   "execution_count": 2,
   "id": "be8fc456",
   "metadata": {},
   "outputs": [],
   "source": [
    "results_0M_20 = np.load('data/results_pairs_ACTR_0M_20.npy', allow_pickle=True)\n",
    "results_0M_20_df = pd.DataFrame.from_records(results_0M_20)"
   ]
  },
  {
   "cell_type": "code",
   "execution_count": 3,
   "id": "26709f40",
   "metadata": {},
   "outputs": [],
   "source": [
    "results_0M_20_ws = np.load('data/results_pairs_ACTR_0M_ws_20.npy', allow_pickle=True)\n",
    "results_0M_20_ws_df = pd.DataFrame.from_records(results_0M_20_ws)"
   ]
  },
  {
   "cell_type": "code",
   "execution_count": 4,
   "id": "70ac0428",
   "metadata": {},
   "outputs": [],
   "source": [
    "# CREATE DF NORMAL VS REWEIGHTED\n",
    "Ex_0M = np.tile([0.61, 0.47, 0.61], 2)\n",
    "\n",
    "Es_0M = np.array(results_0M_20_df['Es'])\n",
    "Es_0M_ws = np.array(results_0M_20_ws_df['Es'])\n",
    "\n",
    "Ed_0M = np.array(results_0M_20_df['Ed'])\n",
    "Ed_0M_ws = np.array(results_0M_20_ws_df['Ed'])\n",
    "\n",
    "Ed2_0M = np.array(results_0M_20_df['Ed2'])\n",
    "Ed2_0M_ws = np.array(results_0M_20_ws_df['Ed2'])\n",
    "\n",
    "E_avg_0M = np.average([Es_0M, Ed_0M, Ed2_0M], axis=0)\n",
    "E_avg_0M_ws = np.average([Es_0M_ws, Ed_0M_ws, Ed2_0M_ws], axis=0)\n",
    "\n",
    "res_0M = np.tile(['3-61', '3-75', '33-75', '3-61', '3-75', '33-75'], 5)\n",
    "allE_0M = np.concatenate([Ex_0M, Es_0M_ws, Es_0M, \n",
    "                          Ed_0M_ws, Ed_0M,\n",
    "                          Ed2_0M_ws, Ed2_0M,\n",
    "                          E_avg_0M_ws, E_avg_0M])\n",
    "\n",
    "type_0M = np.tile(['Reweighted', 'Reweighted', 'Reweighted', 'Normal', 'Normal', 'Normal'], 5)\n",
    "name_0M = np.repeat(['Ex', 'Static', 'Dynamic', 'Dynamic+', 'Average'], 6)\n",
    "ACTR_0M_ws_df = pd.DataFrame({'E': allE_0M, 'name': name_0M, \n",
    "                            'res': res_0M, 'type': type_0M})"
   ]
  },
  {
   "cell_type": "code",
   "execution_count": 43,
   "id": "f181fa2f",
   "metadata": {},
   "outputs": [
    {
     "data": {
      "image/png": "[encoded data removed]",
      "text/plain": [
       "<Figure size 680x270 with 2 Axes>"
      ]
     },
     "metadata": {},
     "output_type": "display_data"
    }
   ],
   "source": [
    "# PLOT\n",
    "sns.set_style('whitegrid')\n",
    "\n",
    "g = sns.catplot(data=ACTR_0M_ws_df.loc[(ACTR_0M_ws_df['name'] != 'Ex')], \n",
    "                x='res', y='E', hue='name', col='type',\n",
    "                kind=\"bar\", legend=True)\n",
    "\n",
    "ax = g.axes\n",
    "\n",
    "g.fig.set_size_inches(6.8, 2.7)\n",
    "\n",
    "ax[0, 0].errorbar(['3-61', '3-75', '33-75'], Ex_0M[0:3], linewidth=1, \n",
    "                  marker='.', markersize=10, label='Experiment', linestyle='dashed', color='k')\n",
    "\n",
    "ax[0, 1].errorbar(['3-61', '3-75', '33-75'], Ex_0M[0:3], linewidth=1, \n",
    "                  marker='.', markersize=10, label='Experiment', linestyle='dashed', color='k')\n",
    "\n",
    "for cols in [0, 1]:\n",
    "    \n",
    "    ax[0, cols].set_ylim(0, 1.1)\n",
    "        \n",
    "    for label in (ax[0, cols].get_xticklabels() + ax[0, cols].get_yticklabels()):\n",
    "        label.set_fontsize(8)\n",
    "        \n",
    "ax[0, 0].set_ylabel('FRET efficiency', fontsize=8)\n",
    "ax[0, 0].set_xlabel('Residue pair', fontsize=8)\n",
    "ax[0, 1].set_xlabel('Residue pair', fontsize=8)\n",
    "\n",
    "ax[0, 0].set_title(None)\n",
    "ax[0, 1].set_title(None)\n",
    "\n",
    "ax[0, 0].text(-0.4, 1.04, 'a', fontsize=12)\n",
    "ax[0, 1].text(-0.4, 1.04, 'b', fontsize=12)\n",
    "\n",
    "ax[0, 1].legend(loc='upper center', title='Regime', title_fontsize=8, fontsize=8)\n",
    "\n",
    "h,l = ax[0, 1].get_legend_handles_labels()\n",
    "legend = ax[0,0].legend(handles=h, labels=l, title='Regime', title_fontsize=8, fontsize=8, loc=(.35,.55))\n",
    "ax[0, 1].get_legend().remove()\n",
    "\n",
    "legend.get_frame().set_alpha(None)\n",
    "\n",
    "g._legend.remove()\n",
    "\n",
    "g.savefig('figs/Fig5.pdf')"
   ]
  },
  {
   "cell_type": "markdown",
   "id": "dc11b88c",
   "metadata": {},
   "source": [
    "## Fig S9"
   ]
  },
  {
   "cell_type": "code",
   "execution_count": 25,
   "id": "b1219195",
   "metadata": {},
   "outputs": [],
   "source": [
    "results_2_5M_20 = np.load('data/results_pairs_ACTR_2_5M_20.npy', allow_pickle=True)\n",
    "results_2_5M_20_df = pd.DataFrame.from_records(results_2_5M_20)"
   ]
  },
  {
   "cell_type": "code",
   "execution_count": 26,
   "id": "81a64fdb",
   "metadata": {},
   "outputs": [],
   "source": [
    "results_2_5M_20_ws = np.load('data/results_pairs_ACTR_2_5M_ws_20.npy', allow_pickle=True)\n",
    "results_2_5M_20_ws_df = pd.DataFrame.from_records(results_2_5M_20_ws)"
   ]
  },
  {
   "cell_type": "code",
   "execution_count": 27,
   "id": "85bf9d2f",
   "metadata": {},
   "outputs": [],
   "source": [
    "results_5M_20 = np.load('data/results_pairs_ACTR_5M_20.npy', allow_pickle=True)\n",
    "results_5M_20_df = pd.DataFrame.from_records(results_5M_20)"
   ]
  },
  {
   "cell_type": "code",
   "execution_count": 28,
   "id": "20340c37",
   "metadata": {},
   "outputs": [],
   "source": [
    "results_5M_20_ws = np.load('data/results_pairs_ACTR_5M_ws_20.npy', allow_pickle=True)\n",
    "results_5M_20_ws_df = pd.DataFrame.from_records(results_5M_20_ws)"
   ]
  },
  {
   "cell_type": "code",
   "execution_count": 29,
   "id": "9972299e",
   "metadata": {},
   "outputs": [],
   "source": [
    "# CREATE DF NORMAL VS REWEIGHTED 2.5 M + 5 M\n",
    "Ex_2_5M = np.tile([0.49, 0.38, 0.51], 2)\n",
    "\n",
    "Es_2_5M = np.array(results_2_5M_20_df['Es'])\n",
    "Es_2_5M_ws = np.array(results_2_5M_20_ws_df['Es'])\n",
    "\n",
    "Ed_2_5M = np.array(results_2_5M_20_df['Ed'])\n",
    "Ed_2_5M_ws = np.array(results_2_5M_20_ws_df['Ed'])\n",
    "\n",
    "Ed2_2_5M = np.array(results_2_5M_20_df['Ed2'])\n",
    "Ed2_2_5M_ws = np.array(results_2_5M_20_ws_df['Ed2'])\n",
    "\n",
    "E_avg_2_5M = np.average([Es_2_5M, Ed_2_5M, Ed2_2_5M], axis=0)\n",
    "E_avg_2_5M_ws = np.average([Es_2_5M_ws, Ed_2_5M_ws, Ed2_2_5M_ws], axis=0)\n",
    "\n",
    "res_2_5M = np.tile(['3-61', '3-75', '33-75', '3-61', '3-75', '33-75'], 5)\n",
    "allE_2_5M = np.concatenate([Ex_2_5M, Es_2_5M_ws, Es_2_5M,\n",
    "                            Ed_2_5M_ws, Ed_2_5M,\n",
    "                            Ed2_2_5M_ws, Ed2_2_5M, \n",
    "                            E_avg_2_5M_ws, E_avg_2_5M])\n",
    "\n",
    "type_2_5M = np.tile(['Reweighted', 'Reweighted', 'Reweighted', 'Normal', 'Normal', 'Normal'], 5)\n",
    "name_2_5M = np.repeat(['Ex', 'Static', 'Dynamic', 'Dynamic+', 'Average'], 6)\n",
    "concentration_2_5M = np.repeat('2.5 M', 30)\n",
    "ACTR_2_5M_ws_df = pd.DataFrame({'E': allE_2_5M, 'name': name_2_5M, \n",
    "                                'res': res_2_5M, 'type': type_2_5M, \n",
    "                                'concentration': concentration_2_5M})\n",
    "\n",
    "\n",
    "Ex_5M = np.tile([0.42, 0.34, 0.46], 2)\n",
    "\n",
    "Es_5M = np.array(results_5M_20_df['Es'])\n",
    "Es_5M_ws = np.array(results_5M_20_ws_df['Es'])\n",
    "\n",
    "Ed_5M = np.array(results_5M_20_df['Ed'])\n",
    "Ed_5M_ws = np.array(results_5M_20_ws_df['Ed'])\n",
    "\n",
    "Ed2_5M = np.array(results_5M_20_df['Ed2'])\n",
    "Ed2_5M_ws = np.array(results_5M_20_ws_df['Ed2'])\n",
    "\n",
    "E_avg_5M = np.average([Es_5M, Ed_5M, Ed2_5M], axis=0)\n",
    "E_avg_5M_ws = np.average([Es_5M_ws, Ed_5M_ws, Ed2_5M_ws], axis=0)\n",
    "\n",
    "res_5M = np.tile(['3-61', '3-75', '33-75', '3-61', '3-75', '33-75'], 5)\n",
    "allE_5M = np.concatenate([Ex_5M, Es_5M_ws, Es_5M,\n",
    "                          Ed_5M_ws, Ed_5M,\n",
    "                          Ed2_5M_ws, Ed2_5M, \n",
    "                          E_avg_5M_ws, E_avg_5M])\n",
    "\n",
    "type_5M = np.tile(['Reweighted', 'Reweighted', 'Reweighted', 'Normal', 'Normal', 'Normal'], 5)\n",
    "name_5M = np.repeat(['Ex', 'Static', 'Dynamic', 'Dynamic+', 'Average'], 6)\n",
    "concentration_5M = np.repeat('5 M', 30)\n",
    "ACTR_5M_ws_df = pd.DataFrame({'E': allE_5M, 'name': name_5M, \n",
    "                              'res': res_5M, 'type': type_5M, \n",
    "                              'concentration': concentration_5M})\n",
    "\n",
    "ACTR_2_5_5_ws_df = pd.concat([ACTR_2_5M_ws_df, ACTR_5M_ws_df], ignore_index=True)"
   ]
  },
  {
   "cell_type": "code",
   "execution_count": 47,
   "id": "1287dc57",
   "metadata": {},
   "outputs": [
    {
     "data": {
      "image/png": "[encoded data removed]",
      "text/plain": [
       "<Figure size 500x430 with 4 Axes>"
      ]
     },
     "metadata": {},
     "output_type": "display_data"
    }
   ],
   "source": [
    "# PLOT 2.5 M + 5 M\n",
    "sns.set_style('whitegrid')\n",
    "\n",
    "g = sns.catplot(data=ACTR_2_5_5_ws_df.loc[(ACTR_2_5_5_ws_df['name'] != 'Ex')], \n",
    "                x='res', y='E', hue='name', col='type', row='concentration',\n",
    "                kind=\"bar\", legend=True, sharex=False)\n",
    "\n",
    "ax = g.axes\n",
    "\n",
    "g.fig.set_size_inches(5, 4.3)\n",
    "\n",
    "ax[0, 0].errorbar(['3-61', '3-75', '33-75'], Ex_2_5M[0:3], linewidth=1, \n",
    "                  marker='.', markersize=10, label='Experiment', linestyle='dashed', color='k')\n",
    "\n",
    "ax[0, 1].errorbar(['3-61', '3-75', '33-75'], Ex_2_5M[0:3], linewidth=1, \n",
    "                  marker='.', markersize=10, label='Experiment', linestyle='dashed', color='k')\n",
    "\n",
    "ax[1, 0].errorbar(['3-61', '3-75', '33-75'], Ex_5M[0:3], linewidth=1, \n",
    "                  marker='.', markersize=10, label='Experiment', linestyle='dashed', color='k')\n",
    "\n",
    "ax[1, 1].errorbar(['3-61', '3-75', '33-75'], Ex_5M[0:3], linewidth=1, \n",
    "                  marker='.', markersize=10, label='Experiment', linestyle='dashed', color='k')\n",
    "\n",
    "for row in [0, 1]:\n",
    "    for cols in [0, 1]:\n",
    "        \n",
    "        ax[row, cols].set_ylim(0, 1.1)\n",
    "        \n",
    "        for label in (ax[row, cols].get_xticklabels() + ax[row, cols].get_yticklabels()):\n",
    "            label.set_fontsize(8)\n",
    "        \n",
    "ax[0, 0].set_ylabel('FRET efficiency', fontsize=8)\n",
    "ax[1, 0].set_ylabel('FRET efficiency', fontsize=8)\n",
    "\n",
    "ax[1, 0].set_xlabel('Residue pair', fontsize=8)\n",
    "ax[1, 1].set_xlabel('Residue pair', fontsize=8)\n",
    "\n",
    "ax[0, 0].set_title(None)\n",
    "ax[0, 1].set_title(None)\n",
    "\n",
    "ax[1, 0].set_title('', fontsize=8)\n",
    "ax[1, 1].set_title('', fontsize=8)\n",
    "\n",
    "legend = ax[1, 1].legend(loc=(.2,.42), title='Regime', title_fontsize=8, fontsize=8)\n",
    "\n",
    "# Letters\n",
    "ax[0, 0].text(-0.4, 1.02, 'a', fontsize=12)\n",
    "ax[1, 0].text(-0.4, 1.02, 'c', fontsize=12)\n",
    "\n",
    "ax[0, 1].text(-0.4, 1.02, 'b', fontsize=12)\n",
    "ax[1, 1].text(-0.4, 1.02, 'd', fontsize=12)\n",
    "\n",
    "h,l = ax[1, 1].get_legend_handles_labels()\n",
    "legend = ax[1,0].legend(loc=(.2,.42), handles=h, labels=l, title='Regime', title_fontsize=8, fontsize=8)\n",
    "ax[1, 1].get_legend().remove()\n",
    "\n",
    "g._legend.remove()\n",
    "\n",
    "legend.get_frame().set_alpha(None)\n",
    "\n",
    "# plt.tight_layout()\n",
    "\n",
    "g.savefig('figs/FigS9.pdf')"
   ]
  },
  {
   "cell_type": "code",
   "execution_count": null,
   "id": "1ca1cc98",
   "metadata": {},
   "outputs": [],
   "source": []
  }
 ],
 "metadata": {
  "kernelspec": {
   "display_name": "Python 3 (ipykernel)",
   "language": "python",
   "name": "python3"
  },
  "language_info": {
   "codemirror_mode": {
    "name": "ipython",
    "version": 3
   },
   "file_extension": ".py",
   "mimetype": "text/x-python",
   "name": "python",
   "nbconvert_exporter": "python",
   "pygments_lexer": "ipython3",
   "version": "3.8.16"
  }
 },
 "nbformat": 4,
 "nbformat_minor": 5
}
