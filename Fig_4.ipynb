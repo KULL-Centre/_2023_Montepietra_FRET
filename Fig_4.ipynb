{
 "cells": [
  {
   "cell_type": "code",
   "execution_count": 1,
   "id": "1b4df2eb",
   "metadata": {},
   "outputs": [],
   "source": [
    "import numpy as np\n",
    "%matplotlib inline\n",
    "import matplotlib.pyplot as plt\n",
    "import matplotlib as mpl\n",
    "import pandas as pd\n",
    "import seaborn as sns\n",
    "import itertools\n",
    "import warnings\n",
    "\n",
    "warnings.filterwarnings('ignore')"
   ]
  },
  {
   "cell_type": "markdown",
   "id": "9db86e76",
   "metadata": {},
   "source": [
    "# Upload data"
   ]
  },
  {
   "cell_type": "code",
   "execution_count": 3,
   "id": "be8fc456",
   "metadata": {},
   "outputs": [],
   "source": [
    "results_0M_20 = np.load('results_pairs_ACTR_0M_20.npy', allow_pickle=True)\n",
    "results_0M_20_df = pd.DataFrame.from_records(results_0M_20)\n",
    "\n",
    "results_0M_30 = np.load('results_pairs_ACTR_0M_30.npy', allow_pickle=True)\n",
    "results_0M_30_df = pd.DataFrame.from_records(results_0M_30)"
   ]
  },
  {
   "cell_type": "code",
   "execution_count": 4,
   "id": "b1219195",
   "metadata": {},
   "outputs": [],
   "source": [
    "results_2_5M_20 = np.load('results_pairs_ACTR_2_5M_20.npy', allow_pickle=True)\n",
    "results_2_5M_20_df = pd.DataFrame.from_records(results_2_5M_20)\n",
    "\n",
    "results_2_5M_30 = np.load('results_pairs_ACTR_2_5M_30.npy', allow_pickle=True)\n",
    "results_2_5M_30_df = pd.DataFrame.from_records(results_2_5M_30)"
   ]
  },
  {
   "cell_type": "code",
   "execution_count": 5,
   "id": "85bf9d2f",
   "metadata": {},
   "outputs": [],
   "source": [
    "results_5M_20 = np.load('results_pairs_ACTR_5M_20.npy', allow_pickle=True)\n",
    "results_5M_20_df = pd.DataFrame.from_records(results_5M_20)\n",
    "\n",
    "results_5M_30 = np.load('results_pairs_ACTR_5M_30.npy', allow_pickle=True)\n",
    "results_5M_30_df = pd.DataFrame.from_records(results_5M_30)"
   ]
  },
  {
   "cell_type": "code",
   "execution_count": 6,
   "id": "a3d2aded",
   "metadata": {},
   "outputs": [],
   "source": [
    "# 0 M\n",
    "Ex_0M = np.tile([0.61, 0.47, 0.61], 2)\n",
    "Es_0M = np.array(results_0M_30_df['Es'])\n",
    "Ed_0M = np.array(results_0M_30_df['Ed'])\n",
    "Ed2_0M = np.array(results_0M_30_df['Ed2'])\n",
    "E_avg_0M = np.average([Es_0M, Ed_0M, Ed2_0M], axis=0)\n",
    "cutoff_0M = np.tile(results_0M_30_df['cutoff'], 5)\n",
    "urea_0M = np.tile(results_0M_30_df['[urea]'], 5)\n",
    "res_0M = np.tile(['3-61', '3-75', '33-75', '3-61', '3-75', '33-75'], 5)\n",
    "allE_0M = np.concatenate([Ex_0M, Es_0M, Ed_0M, Ed2_0M, E_avg_0M])\n",
    "name_0M = np.repeat(['Ex', 'Static', 'Dynamic', 'Dynamic+', 'Average'], 6)\n",
    "ACTR_0M_df = pd.DataFrame({'E': allE_0M, '[Urea]': urea_0M, 'name': name_0M, \n",
    "                               'cutoff': cutoff_0M, 'res': res_0M})\n",
    "\n",
    "# 2.5 M\n",
    "Ex_2_5M = np.tile([0.49, 0.38, 0.51], 2)\n",
    "Es_2_5M = np.array(results_2_5M_30_df['Es'])\n",
    "Ed_2_5M = np.array(results_2_5M_30_df['Ed'])\n",
    "Ed2_2_5M = np.array(results_2_5M_30_df['Ed2'])\n",
    "E_avg_2_5M = np.average([Es_2_5M, Ed_2_5M, Ed2_2_5M], axis=0)\n",
    "cutoff_2_5M = np.tile(results_2_5M_30_df['cutoff'], 5)\n",
    "urea_2_5M = np.tile(results_2_5M_30_df['[urea]'], 5)\n",
    "res_2_5M = np.tile(['3-61', '3-75', '33-75', '3-61', '3-75', '33-75'], 5)\n",
    "allE_2_5M = np.concatenate([Ex_2_5M, Es_2_5M, Ed_2_5M, Ed2_2_5M, E_avg_2_5M])\n",
    "name_2_5M = np.repeat(['Ex', 'Static', 'Dynamic', 'Dynamic+', 'Average'], 6)\n",
    "ACTR_2_5M_df = pd.DataFrame({'E': allE_2_5M, '[Urea]': urea_2_5M, 'name': name_2_5M, \n",
    "                               'cutoff': cutoff_2_5M, 'res': res_2_5M})\n",
    "\n",
    "# 5 M\n",
    "Ex_5M = np.tile([0.42, 0.34, 0.46], 2)\n",
    "Es_5M = np.array(results_5M_30_df['Es'])\n",
    "Ed_5M = np.array(results_5M_30_df['Ed'])\n",
    "Ed2_5M = np.array(results_5M_30_df['Ed2'])\n",
    "E_avg_5M = np.average([Es_5M, Ed_5M, Ed2_5M], axis=0)\n",
    "cutoff_5M = np.tile(results_5M_30_df['cutoff'], 5)\n",
    "urea_5M = np.tile(results_5M_30_df['[urea]'], 5)\n",
    "res_5M = np.tile(['3-61', '3-75', '33-75', '3-61', '3-75', '33-75'], 5)\n",
    "allE_5M = np.concatenate([Ex_5M, Es_5M, Ed_5M, Ed2_5M, E_avg_5M])\n",
    "name_5M = np.repeat(['Ex', 'Static', 'Dynamic', 'Dynamic+', 'Average'], 6)\n",
    "ACTR_5M_df = pd.DataFrame({'E': allE_5M, '[Urea]': urea_5M, 'name': name_5M, \n",
    "                               'cutoff': cutoff_5M, 'res': res_5M})\n",
    "\n",
    "ACTR_all_urea_df = pd.concat([ACTR_0M_df, ACTR_2_5M_df, ACTR_5M_df], ignore_index=True)"
   ]
  },
  {
   "cell_type": "markdown",
   "id": "4cd2e1d1",
   "metadata": {},
   "source": [
    "## PLOT"
   ]
  },
  {
   "cell_type": "code",
   "execution_count": 8,
   "id": "68d7b044",
   "metadata": {},
   "outputs": [
    {
     "data": {
      "image/png": "[encoded data removed]",
      "text/plain": [
       "<Figure size 520x370 with 3 Axes>"
      ]
     },
     "metadata": {},
     "output_type": "display_data"
    }
   ],
   "source": [
    "sns.set_style('darkgrid')\n",
    "\n",
    "g = sns.catplot(data=ACTR_all_urea_df.loc[(ACTR_all_urea_df['name'] != 'Ex') &\n",
    "                                          (ACTR_all_urea_df['cutoff'] == 20)], \n",
    "                x='res', y='E', hue='name', col='[Urea]', \n",
    "                sharey=True, sharex=False, \n",
    "                kind=\"bar\", legend=False)\n",
    "\n",
    "g.fig.set_size_inches(5.2, 3.7)\n",
    "\n",
    "ax = g.axes\n",
    "\n",
    "ax[0, 0].errorbar(['3-61', '3-75', '33-75'], Ex_0M[0:3], linewidth=1, \n",
    "                  marker='.', markersize=10, label='Experiment', linestyle='dashed', color='red');\n",
    "\n",
    "ax[0, 1].errorbar(['3-61', '3-75', '33-75'], Ex_2_5M[0:3], linewidth=1, \n",
    "                  marker='.', markersize=10, label='Experiment', linestyle='dashed', color='red');\n",
    "\n",
    "ax[0, 2].errorbar(['3-61', '3-75', '33-75'], Ex_5M[0:3], linewidth=1, \n",
    "                  marker='.', markersize=10, label='Experiment', linestyle='dashed', color='red');\n",
    "\n",
    "# Labels\n",
    "for cols in [0, 1, 2]:\n",
    "        \n",
    "    ax[0, cols].set_ylim(0, 1.1)\n",
    "        \n",
    "    for label in (ax[0, cols].get_xticklabels() + ax[0, cols].get_yticklabels()):\n",
    "        label.set_fontsize(8)\n",
    "        \n",
    "# Axis labels\n",
    "ax[0, 0].set_title(None)\n",
    "ax[0, 1].set_title(None)\n",
    "ax[0, 2].set_title(None)\n",
    "\n",
    "ax[0, 0].set_xlabel('Residue pair', fontsize=8)\n",
    "ax[0, 1].set_xlabel('Residue pair', fontsize=8)\n",
    "ax[0, 2].set_xlabel('Residue pair', fontsize=8)\n",
    "\n",
    "ax[0, 0].set_ylabel('FRET efficiency', fontsize=8)    \n",
    "\n",
    "ax[0, 1].legend(loc='upper center', title='Regime', title_fontsize=8, fontsize=8)\n",
    "\n",
    "ax[0, 0].text(-0.4, 1.04, \"a\")\n",
    "ax[0, 1].text(-0.4, 1.04, \"b\")\n",
    "ax[0, 2].text(-0.4, 1.04, \"c\")\n",
    "\n",
    "plt.tight_layout()\n",
    "\n",
    "plt.show()\n",
    "\n",
    "# g.savefig('Fig4.eps')\n",
    "# g.savefig('Fig4.png', dpi=320)"
   ]
  }
 ],
 "metadata": {
  "kernelspec": {
   "display_name": "Python 3 (ipykernel)",
   "language": "python",
   "name": "python3"
  },
  "language_info": {
   "codemirror_mode": {
    "name": "ipython",
    "version": 3
   },
   "file_extension": ".py",
   "mimetype": "text/x-python",
   "name": "python",
   "nbconvert_exporter": "python",
   "pygments_lexer": "ipython3",
   "version": "3.10.12"
  }
 },
 "nbformat": 4,
 "nbformat_minor": 5
}
