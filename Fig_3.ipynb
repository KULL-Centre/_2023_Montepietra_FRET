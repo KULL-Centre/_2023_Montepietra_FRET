{
 "cells": [
  {
   "cell_type": "code",
   "execution_count": 1,
   "id": "ee8ebc7a",
   "metadata": {},
   "outputs": [
    {
     "name": "stderr",
     "output_type": "stream",
     "text": [
      "/home/utilizzatore/.local/lib/python3.10/site-packages/MDAnalysis/coordinates/chemfiles.py:82: DeprecationWarning: The distutils package is deprecated and slated for removal in Python 3.12. Use setuptools or check PEP 632 for potential alternatives\n",
      "  from distutils.version import LooseVersion\n",
      "/home/utilizzatore/.local/lib/python3.10/site-packages/MDAnalysis/coordinates/TRJ.py:1209: DeprecationWarning: Please use `netcdf_file` from the `scipy.io` namespace, the `scipy.io.netcdf` namespace is deprecated.\n",
      "  class NCDFPicklable(scipy.io.netcdf.netcdf_file):\n"
     ]
    }
   ],
   "source": [
    "import MDAnalysis\n",
    "import numpy as np\n",
    "%matplotlib inline\n",
    "import matplotlib.pyplot as plt\n",
    "import matplotlib as mpl\n",
    "import os\n",
    "import pandas as pd\n",
    "import seaborn as sns\n",
    "import itertools\n",
    "import warnings\n",
    "from time import time\n",
    "from scipy import stats\n",
    "\n",
    "warnings.filterwarnings('ignore')"
   ]
  },
  {
   "cell_type": "code",
   "execution_count": 2,
   "id": "7e09502d",
   "metadata": {},
   "outputs": [],
   "source": [
    "results_pp11 = np.load('results_pp11.npy', allow_pickle=True)\n",
    "results_pp11_df = pd.DataFrame.from_records(results_pp11).set_index('cutoff')\n",
    "\n",
    "results_pp11_df['E_avg'] = results_pp11_df[['Ex', 'Ed', 'Ed2']].mean(axis=1)"
   ]
  },
  {
   "cell_type": "code",
   "execution_count": 3,
   "id": "a2eaea8f",
   "metadata": {},
   "outputs": [],
   "source": [
    "pp11_df_regimes = pd.DataFrame({'E': [0.732, 0.876, 0.993, 0.867, 0.83], \n",
    "                                'Regime': ['Static', 'Dynamic', 'Dynamic+', 'Average', 'MD']})"
   ]
  },
  {
   "cell_type": "code",
   "execution_count": 4,
   "id": "7a695f0e",
   "metadata": {},
   "outputs": [
    {
     "data": {
      "image/png": "[encoded data removed]",
      "text/plain": [
       "<Figure size 400x450 with 1 Axes>"
      ]
     },
     "metadata": {},
     "output_type": "display_data"
    }
   ],
   "source": [
    "sns.set_style('whitegrid')\n",
    "sns.set(rc={'figure.figsize':(3.5, 2.5)})\n",
    "\n",
    "palette = sns.color_palette(\"mako_r\")\n",
    "\n",
    "g = sns.catplot(data=pp11_df_regimes,\n",
    "                x='Regime', y='E',\n",
    "                kind=\"bar\", legend=True)\n",
    "\n",
    "plt.axhline(0.88, color='red', linestyle = '--')\n",
    "\n",
    "g.fig.set_size_inches(4.0, 4.5)\n",
    "\n",
    "ax = g.axes\n",
    "\n",
    "ax[0, 0].set_ylim(0, 1.1)\n",
    "ax[0, 0].set_yticks(np.arange(0,1.1, 0.1))\n",
    "        \n",
    "for label in (ax[0, 0].get_xticklabels() + ax[0, 0].get_yticklabels()):\n",
    "    label.set_fontsize(8)\n",
    "\n",
    "ax[0, 0].set_xlabel('', fontsize=10)\n",
    "ax[0, 0].set_ylabel('FRET efficiency', fontsize=10)\n",
    "\n",
    "plt.tight_layout()\n",
    "\n",
    "plt.show()\n",
    "\n",
    "# g.savefig('Fig3.eps')\n",
    "# g.savefig('Fig3.png', dpi=320)"
   ]
  },
  {
   "cell_type": "code",
   "execution_count": null,
   "id": "bfa565a5",
   "metadata": {},
   "outputs": [],
   "source": []
  }
 ],
 "metadata": {
  "kernelspec": {
   "display_name": "Python 3 (ipykernel)",
   "language": "python",
   "name": "python3"
  },
  "language_info": {
   "codemirror_mode": {
    "name": "ipython",
    "version": 3
   },
   "file_extension": ".py",
   "mimetype": "text/x-python",
   "name": "python",
   "nbconvert_exporter": "python",
   "pygments_lexer": "ipython3",
   "version": "3.10.12"
  }
 },
 "nbformat": 4,
 "nbformat_minor": 5
}
